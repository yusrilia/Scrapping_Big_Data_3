{
 "cells": [
  {
   "cell_type": "code",
   "execution_count": 30,
   "metadata": {},
   "outputs": [],
   "source": [
    "import requests\n",
    "from bs4 import BeautifulSoup\n",
    "\n",
    "from datetime import datetime\n"
   ]
  },
  {
   "cell_type": "code",
   "execution_count": 33,
   "metadata": {},
   "outputs": [],
   "source": [
    "def get_data(url):\n",
    "    \n",
    "    # Simulasi browser agar tidak diblokir\n",
    "    headers = {\n",
    "        \"User-Agent\": \"Mozilla/5.0 (Windows NT 10.0; Win64; x64) AppleWebKit/537.36 (KHTML, like Gecko) Chrome/120.0.0.0 Safari/537.36\"\n",
    "    }\n",
    "\n",
    "    # Request ke halaman berita\n",
    "    response = requests.get(url, headers=headers)\n",
    "\n",
    "    # Cek jika request berhasil\n",
    "    if response.status_code == 200:\n",
    "        soup = BeautifulSoup(response.text, \"html.parser\")\n",
    "\n",
    "        # Mengambil isi artikel dari <div id=\"zoomthis\">\n",
    "        content_element = soup.find(\"div\", id=\"zoomthis\")\n",
    "        content = content_element.get_text(separator=\"\\n\").strip() if content_element else \"Isi artikel tidak ditemukan\"\n",
    "        \n",
    "        raw = content.split(\"\\n\")\n",
    "        \n",
    "        #  remove all '' in raw\n",
    "        while '' in raw:\n",
    "            raw.remove('')\n",
    "        \n",
    "\n",
    "        date = raw[0]\n",
    "        title = raw[1]\n",
    "        text = ''.join(raw[2:]).strip()\n",
    "\n",
    "        print(f\"Date: {date}\")\n",
    "        print(f\"Title: {title}\")\n",
    "        print(f\"Text: {text}\")\n",
    "\n",
    "    else:\n",
    "        print(f\"Request gagal dengan status: {response.status_code}\")"
   ]
  },
  {
   "cell_type": "code",
   "execution_count": 34,
   "metadata": {},
   "outputs": [
    {
     "name": "stdout",
     "output_type": "stream",
     "text": [
      "Date: Friday 28/Feb/2025 at 10:30\n",
      "Title: WAMENAKER: KEMNAKER KOMITMEN PERJUANGKAN HAK BURUH SRITEX.\n",
      "Text: IQPlus, (28/2) - Wakil Menteri Ketenagakerjaan (Wamenaker) Immanuel Ebenezer Gerungan mengatakan pihaknya akan berada di garis terdepan dalam membela hak-hak butuh Sritex yang menurut kurator akan segera dikenakan pemutusan hubungan kerja (PHK).\"Negara melalui Kemnaker akan berjuang bersama buruh. Oleh karena itu kami terus berkoordinasi dengan manajemen PT Sritex Tbk,\" kata Wamenaker Noel dikutip dari keterangan resmi di Jakarta, Jumat.Noel mengatakan, sesuai aturan dan perundang-undangan, perusahaan yang sudah diputus pailit oleh hakim Pengadilan Niaga, maka kendali perusahaan menjadi kewenangan kurator.\"Kita negara hukum, maka kita harus tunduk pada hukum,\" ujar dia.Noel melanjutkan, Kemnaker dan manajemen sesungguhnya sudah berupaya maksimal agar jangan terjadi PHK.Namun, kurator yang ditunjuk Pengadilan Niaga, memilih opsi PHK. Maka langkah pemerintah selanjutnya, menjamin hak-hak buruh.Kemnaker pun menjamin hak-hak buruh untuk memperoleh pesangon dan jaminan kehilangan pekerjaan (JKP).\"Kemnaker di garis terdepan membela hak buruh, dan pemerintah menjamin buruh akan memperoleh hak-haknya,\" kata Noel. (end/ant)\n"
     ]
    }
   ],
   "source": [
    "# URL artikel yang akan di-scrape\n",
    "url = \"http://www.iqplus.info/news/stock_news/sril-wamenaker--kemnaker-komitmen-perjuangkan-hak-buruh-sritex,05837622.html\"\n",
    "\n",
    "get_data(url)\n"
   ]
  },
  {
   "cell_type": "code",
   "execution_count": 1,
   "metadata": {},
   "outputs": [
    {
     "name": "stdout",
     "output_type": "stream",
     "text": [
      "http://www.iqplus.info/news/stock_news/elit-delemont-global-kurangi-kepemilikan-saham-elit,06361430.html\n",
      "http://www.iqplus.info/news/stock_news/arko-pefindo-naikkan-peringkat-obligasi-arko-jadi-ida-,06337454.html\n",
      "http://www.iqplus.info/news/stock_news/\n",
      "http://www.iqplus.info/news/stock_news/go-to-page,0.html\n",
      "http://www.iqplus.info/news/stock_news/adhi-adhi-karya-minta-dukungan-dpr-terkait-pmn-tol-jogja-solo,06348041.html\n",
      "http://www.iqplus.info/news/stock_news/isat-indosat-dan-indepay-hadirkan-solusi-pembayaran-dan-transaksi-digital,06354026.html\n",
      "http://www.iqplus.info/news/stock_news/ctbn-ctbn-akhiri-perjanjian-jual-beli-saham-bersyarat-dengan-cipta-krida-bahari,06338115.html\n",
      "http://www.iqplus.info/news/stock_news/tins-pt-timah-dukung-peningkatan-kapasitas-pelaku-umkm,06356302.html\n",
      "http://www.iqplus.info/news/stock_news/pgas-pgn-gagas-dan-pertamina-drilling-terapkan-teknologi-dual-fuel,06355544.html\n",
      "http://www.iqplus.info/news/stock_news/bbni-bni-dan-smi-jalin-kerja-sama-repo-senilai-rp550-miliar,06341994.html\n",
      "http://www.iqplus.info/news/stock_news/bbri-bri-buka-program-desa-brilian-2025,06341322.html\n",
      "http://www.iqplus.info/news/stock_news/iata-kushindrarto-mengundurkan-diri-sebagai-direktur-iata,06335610.html\n",
      "http://www.iqplus.info/news/stock_news/isat-indosat-jadi-yang-pertama-terapkan-ai-ran-di-asia-tenggara-bersama-nokia-dan-nvidia,06353364.html\n",
      "http://www.iqplus.info/news/stock_news/bren-prajogo-pangestu-tambah-kepemilikan-saham-bren,06340748.html\n",
      "http://www.iqplus.info/news/stock_news/go-to-page,142.html\n",
      "http://www.iqplus.info/news/stock_news/wifi-tekan-perjanjian-komersial--wifi-dan-orex-sai-hadirkan-solusi-internet-terjangkau-di-indonesia,06336552.html\n",
      "http://www.iqplus.info/news/stock_news/sril-menaker-akan-kawal-pencairan-hak-hak-korban-phk-sritex,06342471.html\n",
      "http://www.iqplus.info/news/stock_news/dgwg-danny-jo-putra-lakukan-investasi-pada-saham-dgwg,06355228.html\n",
      "http://www.iqplus.info/news/stock_news/go-to-page,3.html\n",
      "http://www.iqplus.info/news/stock_news/omed-jemmy-hartanto-tambah-kepemilikan-saham-omed,06353711.html\n",
      "http://www.iqplus.info/news/stock_news/smgr-sig-dukung-pembangunan-berkelanjutan-melalui-penguatan-budaya-k3,06356064.html\n",
      "http://www.iqplus.info/news/stock_news/zyrx-terkait-volatilitas-sahamnya--ini-jawaban-manajemen-zyrx-ke-bei,06353198.html\n",
      "http://www.iqplus.info/news/stock_news/sraj-surya-cipta-inti-kurangi-kepemilikan-saham-sraj,06351094.html\n",
      "http://www.iqplus.info/news/stock_news/elit-thomas-irawan-kurangi-kepemilikan-saham-elit,06357121.html\n",
      "http://www.iqplus.info/news/stock_news/go-to-page,4.html\n",
      "http://www.iqplus.info/news/stock_news/sraj-bain-capital-credit-lakukan-investasi-pada-saham-sraj,06353026.html\n",
      "http://www.iqplus.info/news/stock_news/abmm-setop-ppjb--citra-tubindo-batal-jual-seluruh-saham-di-anak-usaha,06348488.html\n",
      "http://www.iqplus.info/news/stock_news/wskt-waskita-karya-targetkan-pendapatan-tahun-ini-sebesar-rp10-8-triliun,06352903.html\n",
      "http://www.iqplus.info/news/stock_news/gema-petinggi-gema-tambah-kepemilikan-sahamnya,06349422.html\n",
      "http://www.iqplus.info/news/stock_news/bbca-permudah-capai-tujuan-investasi--bca-hadirkan-investment-goals-di-mybca,06348334.html\n",
      "http://www.iqplus.info/news/stock_news/go-to-page,2.html\n",
      "http://www.iqplus.info/news/stock_news/pkpk-haryanto-sofian-tambah-kepemilikan-saham-pkpk,06336251.html\n",
      "http://www.iqplus.info/news/stock_news/maya-zurich-life-gandeng-bank-mayapada-perkuat-segmen-asuransi-tradisional,06342673.html\n",
      "http://www.iqplus.info/news/stock_news/tosk-robi-cahyadi-tambah-kepemilikan-saham-tosk,06339840.html\n",
      "http://www.iqplus.info/news/stock_news/wika-wika-buktikan-kapasitasnya-sebagai-champion-epcc-contractor,06354344.html\n",
      "http://www.iqplus.info/news/stock_news/inet-inet-kolaborasi-dengan-apjii-bangun-58-node-internet-exchange-di-pulau-jawa,06337224.html\n"
     ]
    }
   ],
   "source": [
    "from selenium import webdriver\n",
    "from selenium.webdriver.common.by import By\n",
    "from selenium.webdriver.chrome.service import Service\n",
    "from webdriver_manager.chrome import ChromeDriverManager\n",
    "import time\n",
    "\n",
    "# Setup Selenium WebDriver\n",
    "options = webdriver.ChromeOptions()\n",
    "options.add_argument(\"--headless\")  # Run in headless mode (no UI)\n",
    "driver = webdriver.Chrome(service=Service(ChromeDriverManager().install()), options=options)\n",
    "\n",
    "# URL to start scraping\n",
    "base_url = \"http://www.iqplus.info/news/stock_news/go-to-page,0.html\"\n",
    "driver.get(base_url)\n",
    "\n",
    "article_links = set()  # Store unique article links\n",
    "\n",
    "while True:\n",
    "    # Find all article links\n",
    "    articles = driver.find_elements(By.CSS_SELECTOR, \"a[href*='/news/stock_news/']\")\n",
    "    \n",
    "    for article in articles:\n",
    "        link = article.get_attribute(\"href\")\n",
    "        if link:\n",
    "            article_links.add(link)\n",
    "\n",
    "    # Try to find the \"Next\" button\n",
    "    try:\n",
    "        next_button = driver.find_element(By.LINK_TEXT, \"Next\")  # Change this if button text differs\n",
    "        next_button.click()\n",
    "        time.sleep(2)  # Wait for page to load\n",
    "    except:\n",
    "        break  # Stop when \"Next\" button is not found\n",
    "\n",
    "# Close browser\n",
    "driver.quit()\n",
    "\n",
    "# Print all collected links\n",
    "for link in article_links:\n",
    "    print(link)\n"
   ]
  },
  {
   "cell_type": "code",
   "execution_count": 2,
   "metadata": {},
   "outputs": [
    {
     "name": "stdout",
     "output_type": "stream",
     "text": [
      "http://www.iqplus.info/news/stock_news/elit-delemont-global-kurangi-kepemilikan-saham-elit,06361430.html\n",
      "http://www.iqplus.info/news/stock_news/arko-pefindo-naikkan-peringkat-obligasi-arko-jadi-ida-,06337454.html\n",
      "http://www.iqplus.info/news/stock_news/\n",
      "http://www.iqplus.info/news/stock_news/go-to-page,0.html\n",
      "http://www.iqplus.info/news/stock_news/adhi-adhi-karya-minta-dukungan-dpr-terkait-pmn-tol-jogja-solo,06348041.html\n",
      "http://www.iqplus.info/news/stock_news/isat-indosat-dan-indepay-hadirkan-solusi-pembayaran-dan-transaksi-digital,06354026.html\n",
      "http://www.iqplus.info/news/stock_news/ctbn-ctbn-akhiri-perjanjian-jual-beli-saham-bersyarat-dengan-cipta-krida-bahari,06338115.html\n",
      "http://www.iqplus.info/news/stock_news/tins-pt-timah-dukung-peningkatan-kapasitas-pelaku-umkm,06356302.html\n",
      "http://www.iqplus.info/news/stock_news/pgas-pgn-gagas-dan-pertamina-drilling-terapkan-teknologi-dual-fuel,06355544.html\n",
      "http://www.iqplus.info/news/stock_news/bbni-bni-dan-smi-jalin-kerja-sama-repo-senilai-rp550-miliar,06341994.html\n",
      "http://www.iqplus.info/news/stock_news/bbri-bri-buka-program-desa-brilian-2025,06341322.html\n",
      "http://www.iqplus.info/news/stock_news/iata-kushindrarto-mengundurkan-diri-sebagai-direktur-iata,06335610.html\n",
      "http://www.iqplus.info/news/stock_news/isat-indosat-jadi-yang-pertama-terapkan-ai-ran-di-asia-tenggara-bersama-nokia-dan-nvidia,06353364.html\n",
      "http://www.iqplus.info/news/stock_news/bren-prajogo-pangestu-tambah-kepemilikan-saham-bren,06340748.html\n",
      "http://www.iqplus.info/news/stock_news/go-to-page,142.html\n",
      "http://www.iqplus.info/news/stock_news/wifi-tekan-perjanjian-komersial--wifi-dan-orex-sai-hadirkan-solusi-internet-terjangkau-di-indonesia,06336552.html\n",
      "http://www.iqplus.info/news/stock_news/sril-menaker-akan-kawal-pencairan-hak-hak-korban-phk-sritex,06342471.html\n",
      "http://www.iqplus.info/news/stock_news/dgwg-danny-jo-putra-lakukan-investasi-pada-saham-dgwg,06355228.html\n",
      "http://www.iqplus.info/news/stock_news/go-to-page,3.html\n",
      "http://www.iqplus.info/news/stock_news/omed-jemmy-hartanto-tambah-kepemilikan-saham-omed,06353711.html\n",
      "http://www.iqplus.info/news/stock_news/smgr-sig-dukung-pembangunan-berkelanjutan-melalui-penguatan-budaya-k3,06356064.html\n",
      "http://www.iqplus.info/news/stock_news/zyrx-terkait-volatilitas-sahamnya--ini-jawaban-manajemen-zyrx-ke-bei,06353198.html\n",
      "http://www.iqplus.info/news/stock_news/sraj-surya-cipta-inti-kurangi-kepemilikan-saham-sraj,06351094.html\n",
      "http://www.iqplus.info/news/stock_news/elit-thomas-irawan-kurangi-kepemilikan-saham-elit,06357121.html\n",
      "http://www.iqplus.info/news/stock_news/go-to-page,4.html\n",
      "http://www.iqplus.info/news/stock_news/sraj-bain-capital-credit-lakukan-investasi-pada-saham-sraj,06353026.html\n",
      "http://www.iqplus.info/news/stock_news/abmm-setop-ppjb--citra-tubindo-batal-jual-seluruh-saham-di-anak-usaha,06348488.html\n",
      "http://www.iqplus.info/news/stock_news/wskt-waskita-karya-targetkan-pendapatan-tahun-ini-sebesar-rp10-8-triliun,06352903.html\n",
      "http://www.iqplus.info/news/stock_news/gema-petinggi-gema-tambah-kepemilikan-sahamnya,06349422.html\n",
      "http://www.iqplus.info/news/stock_news/bbca-permudah-capai-tujuan-investasi--bca-hadirkan-investment-goals-di-mybca,06348334.html\n",
      "http://www.iqplus.info/news/stock_news/go-to-page,2.html\n",
      "http://www.iqplus.info/news/stock_news/pkpk-haryanto-sofian-tambah-kepemilikan-saham-pkpk,06336251.html\n",
      "http://www.iqplus.info/news/stock_news/maya-zurich-life-gandeng-bank-mayapada-perkuat-segmen-asuransi-tradisional,06342673.html\n",
      "http://www.iqplus.info/news/stock_news/tosk-robi-cahyadi-tambah-kepemilikan-saham-tosk,06339840.html\n",
      "http://www.iqplus.info/news/stock_news/wika-wika-buktikan-kapasitasnya-sebagai-champion-epcc-contractor,06354344.html\n",
      "http://www.iqplus.info/news/stock_news/inet-inet-kolaborasi-dengan-apjii-bangun-58-node-internet-exchange-di-pulau-jawa,06337224.html\n"
     ]
    }
   ],
   "source": [
    "from selenium import webdriver\n",
    "from selenium.webdriver.common.by import By\n",
    "from selenium.webdriver.chrome.service import Service\n",
    "from webdriver_manager.chrome import ChromeDriverManager\n",
    "\n",
    "# Setup Selenium WebDriver\n",
    "options = webdriver.ChromeOptions()\n",
    "options.add_argument(\"--headless\")  # Run in headless mode (optional)\n",
    "driver = webdriver.Chrome(service=Service(ChromeDriverManager().install()), options=options)\n",
    "\n",
    "# Open the page\n",
    "url = \"http://www.iqplus.info/news/stock_news/go-to-page,0.html\"\n",
    "driver.get(url)\n",
    "\n",
    "# Extract article links\n",
    "article_links = set()  # Use a set to avoid duplicates\n",
    "articles = driver.find_elements(By.CSS_SELECTOR, \"a[href*='/news/stock_news/']\")\n",
    "\n",
    "for article in articles:\n",
    "    link = article.get_attribute(\"href\")\n",
    "    if link:\n",
    "        article_links.add(link)\n",
    "\n",
    "# Close browser\n",
    "driver.quit()\n",
    "\n",
    "# Print all collected links\n",
    "for link in article_links:\n",
    "    print(link)\n"
   ]
  },
  {
   "cell_type": "code",
   "execution_count": 7,
   "metadata": {},
   "outputs": [],
   "source": [
    "from selenium import webdriver\n",
    "from selenium.webdriver.common.by import By\n",
    "from selenium.webdriver.chrome.service import Service\n",
    "from webdriver_manager.chrome import ChromeDriverManager\n"
   ]
  },
  {
   "cell_type": "code",
   "execution_count": 6,
   "metadata": {},
   "outputs": [
    {
     "name": "stdout",
     "output_type": "stream",
     "text": [
      "New links have been added to stock_news_links.txt\n"
     ]
    }
   ],
   "source": [
    "\n",
    "# Setup Selenium WebDriver\n",
    "options = webdriver.ChromeOptions()\n",
    "options.add_argument(\"--headless\")  # Run in headless mode (optional)\n",
    "driver = webdriver.Chrome(service=Service(ChromeDriverManager().install()), options=options)\n",
    "\n",
    "# Open the page\n",
    "url = \"http://www.iqplus.info/news/stock_news/go-to-page,0.html\"\n",
    "driver.get(url)\n",
    "\n",
    "# Find the \"STOCK NEWS MORE\" section\n",
    "stock_news_section = driver.find_element(By.XPATH, \"//h2[contains(text(),'STOCK NEWS MORE')]/following-sibling::ul\")\n",
    "\n",
    "# Extract article links within the section\n",
    "article_links = set()\n",
    "articles = stock_news_section.find_elements(By.TAG_NAME, \"a\")\n",
    "\n",
    "for article in articles:\n",
    "    link = article.get_attribute(\"href\")\n",
    "    if link:\n",
    "        article_links.add(link)\n",
    "\n",
    "# Append links to a text file\n",
    "with open(\"stock_news_links.txt\", \"a\", encoding=\"utf-8\") as file:\n",
    "    for link in article_links:\n",
    "        file.write(link + \"\\n\")\n",
    "\n",
    "# Close browser\n",
    "driver.quit()\n",
    "\n",
    "print(\"New links have been added to stock_news_links.txt\")\n"
   ]
  },
  {
   "cell_type": "code",
   "execution_count": null,
   "metadata": {},
   "outputs": [],
   "source": []
  }
 ],
 "metadata": {
  "kernelspec": {
   "display_name": "Python 3",
   "language": "python",
   "name": "python3"
  },
  "language_info": {
   "codemirror_mode": {
    "name": "ipython",
    "version": 3
   },
   "file_extension": ".py",
   "mimetype": "text/x-python",
   "name": "python",
   "nbconvert_exporter": "python",
   "pygments_lexer": "ipython3",
   "version": "3.12.5"
  }
 },
 "nbformat": 4,
 "nbformat_minor": 2
}
