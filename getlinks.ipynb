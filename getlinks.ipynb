{
 "cells": [
  {
   "cell_type": "code",
   "execution_count": 1,
   "metadata": {},
   "outputs": [],
   "source": [
    "from selenium import webdriver\n",
    "from selenium.webdriver.common.by import By\n",
    "from selenium.webdriver.chrome.service import Service\n",
    "from webdriver_manager.chrome import ChromeDriverManager\n"
   ]
  },
  {
   "cell_type": "code",
   "execution_count": null,
   "metadata": {},
   "outputs": [],
   "source": [
    "def getlinks(page):\n",
    "    # Setup Selenium WebDriver\n",
    "    options = webdriver.ChromeOptions()\n",
    "    options.add_argument(\"--headless\")  # Run in headless mode (optional)\n",
    "    driver = webdriver.Chrome(service=Service(ChromeDriverManager().install()), options=options)\n",
    "\n",
    "    # Open the page\n",
    "    url = \"http://www.iqplus.info/news/stock_news/go-to-page,\"+str(page)+\".html\"\n",
    "    driver.get(url)\n",
    "\n",
    "    # Find the \"STOCK NEWS MORE\" section\n",
    "    stock_news_section = driver.find_element(By.XPATH, \"//h2[contains(text(),'STOCK NEWS MORE')]/following-sibling::ul\")\n",
    "\n",
    "    # Extract article links within the section\n",
    "    article_links = set()\n",
    "    articles = stock_news_section.find_elements(By.TAG_NAME, \"a\")\n",
    "\n",
    "    for article in articles:\n",
    "        link = article.get_attribute(\"href\")\n",
    "        if link:\n",
    "            article_links.add(link)\n",
    "\n",
    "    # Append links to a text file\n",
    "    with open(\"stock_news_links.txt\", \"a\", encoding=\"utf-8\") as file:\n",
    "        for link in article_links:\n",
    "            file.write(link + \"\\n\")\n",
    "\n",
    "    # Close browser\n",
    "    driver.quit()\n",
    "\n",
    "    print(\"links from page\" page, \"have been added to stock_news_links.txt\")\n"
   ]
  },
  {
   "cell_type": "code",
   "execution_count": 3,
   "metadata": {},
   "outputs": [
    {
     "name": "stdout",
     "output_type": "stream",
     "text": [
      "141 new links have been added to stock_news_links.txt\n"
     ]
    }
   ],
   "source": [
    "getlinks(141)"
   ]
  },
  {
   "cell_type": "code",
   "execution_count": null,
   "metadata": {},
   "outputs": [],
   "source": []
  }
 ],
 "metadata": {
  "kernelspec": {
   "display_name": "Python 3",
   "language": "python",
   "name": "python3"
  },
  "language_info": {
   "codemirror_mode": {
    "name": "ipython",
    "version": 3
   },
   "file_extension": ".py",
   "mimetype": "text/x-python",
   "name": "python",
   "nbconvert_exporter": "python",
   "pygments_lexer": "ipython3",
   "version": "3.12.5"
  }
 },
 "nbformat": 4,
 "nbformat_minor": 2
}
